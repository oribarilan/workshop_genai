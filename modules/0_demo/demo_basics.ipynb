{
 "cells": [
  {
   "cell_type": "code",
   "execution_count": 2,
   "metadata": {},
   "outputs": [],
   "source": [
    "# let's start by loading the environment variables\n",
    "\n",
    "import os\n",
    "\n",
    "from dotenv import load_dotenv\n",
    "\n",
    "load_dotenv()\n",
    "\n",
    "key = os.getenv(\"AZURE_OPENAI_API_KEY\")\n",
    "endpoint = os.getenv(\"AZURE_OPENAI_ENDPOINT\")\n",
    "deployment_name = os.getenv(\"DEPLOYMENT_NAME\")\n",
    "api_version = os.getenv(\"AZURE_OPENAI_API_VERSION\")\n",
    "\n",
    "assert key, \"Please set the AZURE_OPENAI_API_KEY environment variable\"\n",
    "assert endpoint, \"Please set the AZURE_OPENAI_ENDPOINT environment variable\"\n",
    "assert deployment_name, \"Please set the DEPLOYMENT_NAME environment variable\"\n",
    "assert api_version, \"Please set the AZURE_OPENAI_API_VERSION environment variable\""
   ]
  },
  {
   "cell_type": "code",
   "execution_count": 3,
   "metadata": {},
   "outputs": [
    {
     "name": "stdout",
     "output_type": "stream",
     "text": [
      "One interesting fact is that honey never spoils. Archaeologists have found pots of honey in ancient Egyptian tombs that are over 3,000 years old and still perfectly edible. This is due to its low moisture content and acidic pH, which create an inhospitable environment for bacteria and microorganisms.\n"
     ]
    }
   ],
   "source": [
    "# Example 1: Vanilla chat experience\n",
    "\n",
    "from openai import AzureOpenAI\n",
    "\n",
    "client = AzureOpenAI(api_key=key, api_version=api_version, azure_endpoint=endpoint)  # type: ignore (asserted already)\n",
    "\n",
    "response = client.chat.completions.create(\n",
    "    model=deployment_name,  # type: ignore (asserted already)\n",
    "    messages=[\n",
    "        {\n",
    "            \"role\": \"system\",\n",
    "            \"content\": \"You are an interesting know-it-all person.\",\n",
    "        },\n",
    "        {\"role\": \"user\", \"content\": \"Tell me one interesting fact.\"},\n",
    "    ],\n",
    ")\n",
    "\n",
    "print(response.choices[0].message.content)"
   ]
  },
  {
   "cell_type": "code",
   "execution_count": 4,
   "metadata": {},
   "outputs": [
    {
     "data": {
      "text/plain": [
       "\"Did you know that honey never spoils? Archaeologists have discovered pots of honey in ancient Egyptian tombs that are over 3,000 years old and still perfectly edible! This is due to honey's unique chemical composition, low moisture content, and acidic pH, which create an inhospitable environment for bacteria and microorganisms.\""
      ]
     },
     "execution_count": 4,
     "metadata": {},
     "output_type": "execute_result"
    }
   ],
   "source": [
    "# Example 2: Introducing LangChain\n",
    "\n",
    "from langchain_core.messages import HumanMessage, SystemMessage\n",
    "from langchain_openai import AzureChatOpenAI\n",
    "\n",
    "model = AzureChatOpenAI(\n",
    "    api_version=api_version,  # type: ignore\n",
    "    azure_deployment=deployment_name,\n",
    ")\n",
    "\n",
    "\n",
    "sys_msg = SystemMessage(content=\"You are an interesting know-it-all person.\")\n",
    "human_msg = HumanMessage(\n",
    "    content=\"Tell me one interesting fact\",\n",
    ")\n",
    "# introduce randomness in the response\n",
    "response = model.invoke([sys_msg, human_msg], temperature=0.9, top_p=0.9, frequency_penalty=0.5, presence_penalty=0.6)\n",
    "\n",
    "response.content"
   ]
  },
  {
   "cell_type": "code",
   "execution_count": 7,
   "metadata": {},
   "outputs": [
    {
     "name": "stdout",
     "output_type": "stream",
     "text": [
      "The log file indicates that the server started successfully and handled multiple requests without issues initially. However, it encountered significant anomalies related to database connectivity, including a timeout while executing a user query, followed by a connection refusal error, which led to a service degradation warning. An automatic database failover was triggered, switching to a secondary instance, and connectivity was re-established shortly thereafter. Additionally, there was another error indicating a connection reset by peer, accompanied by a warning of intermittent database connectivity issues. Despite these challenges, the server continued to process requests and completed scheduled tasks without further incident.\n"
     ]
    }
   ],
   "source": [
    "# Example 3: Log Analysis\n",
    "\n",
    "from pathlib import Path\n",
    "\n",
    "from langchain_core.messages import HumanMessage, SystemMessage\n",
    "from langchain_openai import AzureChatOpenAI\n",
    "\n",
    "model = AzureChatOpenAI(\n",
    "    api_version=api_version,  # type: ignore\n",
    "    azure_deployment=deployment_name,\n",
    ")\n",
    "\n",
    "log = Path(\"demo.log\").read_text()\n",
    "\n",
    "sys_msg = SystemMessage(content=\"You are an expert software engineer.\")\n",
    "human_msg = HumanMessage(\n",
    "    content=f\"Analyze the following log file and create a consie one-paragraph-long summary of it, highlighting anomalies:\\n\\n<logs>\\n\\n{log}\\n\\n</logs>\",\n",
    ")\n",
    "# introduce randomness in the response\n",
    "response = model.invoke([sys_msg, human_msg], temperature=0.3)\n",
    "\n",
    "print(response.content)"
   ]
  },
  {
   "cell_type": "code",
   "execution_count": null,
   "metadata": {},
   "outputs": [],
   "source": []
  }
 ],
 "metadata": {
  "kernelspec": {
   "display_name": "Python 3",
   "language": "python",
   "name": "python3"
  },
  "language_info": {
   "codemirror_mode": {
    "name": "ipython",
    "version": 3
   },
   "file_extension": ".py",
   "mimetype": "text/x-python",
   "name": "python",
   "nbconvert_exporter": "python",
   "pygments_lexer": "ipython3",
   "version": "3.9.20"
  }
 },
 "nbformat": 4,
 "nbformat_minor": 2
}
