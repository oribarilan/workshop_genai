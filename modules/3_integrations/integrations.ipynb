{
 "cells": [
  {
   "cell_type": "code",
   "execution_count": 1,
   "metadata": {},
   "outputs": [],
   "source": [
    "# same setup\n",
    "\n",
    "import os\n",
    "\n",
    "from dotenv import load_dotenv\n",
    "\n",
    "load_dotenv()\n",
    "\n",
    "key = os.getenv(\"AZURE_OPENAI_API_KEY\")\n",
    "endpoint = os.getenv(\"AZURE_OPENAI_ENDPOINT\")\n",
    "deployment_name = os.getenv(\"DEPLOYMENT_NAME\")\n",
    "api_version = os.getenv(\"AZURE_OPENAI_API_VERSION\")\n",
    "\n",
    "assert key, \"Please set the AZURE_OPENAI_API_KEY environment variable\"\n",
    "assert endpoint, \"Please set the AZURE_OPENAI_ENDPOINT environment variable\"\n",
    "assert deployment_name, \"Please set the DEPLOYMENT_NAME environment variable\"\n",
    "assert api_version, \"Please set the AZURE_OPENAI_API_VERSION environment variable\"\n",
    "\n",
    "SYS_MSG = \"You are a synonym and antonym bot. Given a word, you will provide synonyms and antonyms for it.\""
   ]
  },
  {
   "cell_type": "code",
   "execution_count": 2,
   "metadata": {},
   "outputs": [],
   "source": [
    "from langchain_community.document_loaders import PyPDFLoader\n",
    "from pathlib import Path\n",
    "\n",
    "loader = PyPDFLoader(str(Path(\"insurance.pdf\")))\n",
    "pages = loader.load_and_split()"
   ]
  },
  {
   "cell_type": "code",
   "execution_count": 20,
   "metadata": {},
   "outputs": [
    {
     "data": {
      "text/plain": [
       "5"
      ]
     },
     "execution_count": 20,
     "metadata": {},
     "output_type": "execute_result"
    }
   ],
   "source": [
    "len(pages)"
   ]
  },
  {
   "cell_type": "code",
   "execution_count": 23,
   "metadata": {},
   "outputs": [],
   "source": [
    "from langchain_community.vectorstores import FAISS\n",
    "from langchain_openai import AzureOpenAIEmbeddings\n",
    "\n",
    "# deployment name for an embeddings model =\n",
    "embedding_deployment = \"ss_embed\"\n",
    "\n",
    "faiss_index = FAISS.from_documents(\n",
    "    pages,\n",
    "    AzureOpenAIEmbeddings(deployment=embedding_deployment),\n",
    ")\n",
    "docs = faiss_index.similarity_search(\"Car\", k=1)"
   ]
  },
  {
   "cell_type": "code",
   "execution_count": 24,
   "metadata": {},
   "outputs": [
    {
     "name": "stdout",
     "output_type": "stream",
     "text": [
      "2: Vehicle Damage Coverage\n",
      "Coverage details for vehicle repair or replacement due to accidents or theft.\n",
      "1. Collision: Coverage of repair costs 100% up to the value of $40,000.\n",
      "2. Theft: Full replacement cost up to $50,000 if the vehicle is stolen and not recovered.\n",
      "3. Natural Disasters: 70% coverage f\n"
     ]
    }
   ],
   "source": [
    "for doc in docs:\n",
    "    print(str(doc.metadata[\"page\"]) + \":\", doc.page_content[:300])"
   ]
  },
  {
   "cell_type": "code",
   "execution_count": 26,
   "metadata": {},
   "outputs": [
    {
     "name": "stdout",
     "output_type": "stream",
     "text": [
      "found 4 documents\n",
      "top hit:\n",
      "Vehicle Damage Coverage\n",
      "Coverage details for vehicle repair or replacement due to accidents or theft.\n",
      "1. Collision: Coverage of repair costs 100% up to the value of $40,000.\n",
      "2. Theft: Full replacement cost up to $50,000 if the vehicle is stolen and not recovered.\n",
      "3. Natural Disasters: 70% coverage for damages caused by events such as earthquakes, floods,\n",
      "and hurricanes up to $30,000.\n",
      "4. Vandalism: Coverage up to $10,000.\n",
      "Exclusions:\n",
      "- Damages due to routine wear and tear.\n",
      "- Incidents occurring when the vehicle was being used for illegal activities.\n",
      "- Vehicles over 10 years old or those not maintaining regular servicing records.\n"
     ]
    }
   ],
   "source": [
    "query = \"flood\"\n",
    "docs = faiss_index.similarity_search(query)\n",
    "print(f\"found {len(docs)} documents\")\n",
    "print(\"top hit:\")\n",
    "print(docs[0].page_content)"
   ]
  },
  {
   "cell_type": "code",
   "execution_count": 30,
   "metadata": {},
   "outputs": [],
   "source": [
    "retriever = faiss_index.as_retriever(k=1)"
   ]
  },
  {
   "cell_type": "code",
   "execution_count": 35,
   "metadata": {},
   "outputs": [],
   "source": [
    "from langchain_core.runnables import RunnablePassthrough\n",
    "from langchain_openai import AzureChatOpenAI\n",
    "from langchain_core.output_parsers import StrOutputParser\n",
    "from langchain.prompts import ChatPromptTemplate\n",
    "\n",
    "prompt = \"\"\" You are a helpful insurance agent. Given the context from the insurance policy, shortly answer the user's question.\n",
    "Please provide extensive evidence from the document to support your answer.\n",
    "<policy>\n",
    "{context}\n",
    "</policy>\n",
    "question = {question}\n",
    "if the answer is not in the <policy> provided, please share what you do understand with the policy provided, \n",
    "and let the user know it may not be exactly what they are looking for.\"\n",
    "\"\"\"\n",
    "\n",
    "prompt = ChatPromptTemplate.from_template(prompt)\n",
    "\n",
    "\n",
    "llm = AzureChatOpenAI(\n",
    "    api_version=api_version,  # type: ignore\n",
    "    azure_deployment=deployment_name,\n",
    ")\n",
    "\n",
    "rag_chain = (\n",
    "    {\"context\": retriever, \"question\": RunnablePassthrough()}\n",
    "    | prompt\n",
    "    | llm\n",
    "    | StrOutputParser()\n",
    ")"
   ]
  },
  {
   "cell_type": "code",
   "execution_count": 36,
   "metadata": {},
   "outputs": [
    {
     "data": {
      "text/plain": [
       "'According to the insurance policy document, there is coverage for car collision damages. The policy provides 100% coverage for repair costs up to the value of $40,000 under the Collision section. Here is the evidence from the document: \"1. Collision: Coverage of repair costs 100% up to the value of $40,000.\" Therefore, the insurance policy covers car collision damages up to $40,000.'"
      ]
     },
     "execution_count": 36,
     "metadata": {},
     "output_type": "execute_result"
    }
   ],
   "source": [
    "user_prompt = \"car collision\"\n",
    "\n",
    "rag_chain.invoke(user_prompt)"
   ]
  },
  {
   "cell_type": "code",
   "execution_count": null,
   "metadata": {},
   "outputs": [],
   "source": []
  }
 ],
 "metadata": {
  "kernelspec": {
   "display_name": "Python 3",
   "language": "python",
   "name": "python3"
  },
  "language_info": {
   "codemirror_mode": {
    "name": "ipython",
    "version": 3
   },
   "file_extension": ".py",
   "mimetype": "text/x-python",
   "name": "python",
   "nbconvert_exporter": "python",
   "pygments_lexer": "ipython3",
   "version": "3.12.3"
  }
 },
 "nbformat": 4,
 "nbformat_minor": 2
}
