{
 "cells": [
  {
   "cell_type": "code",
   "execution_count": 1,
   "metadata": {},
   "outputs": [],
   "source": [
    "# same setup\n",
    "\n",
    "import os\n",
    "\n",
    "from dotenv import load_dotenv\n",
    "\n",
    "load_dotenv()\n",
    "\n",
    "key = os.getenv(\"AZURE_OPENAI_API_KEY\")\n",
    "endpoint = os.getenv(\"AZURE_OPENAI_ENDPOINT\")\n",
    "deployment_name = os.getenv(\"DEPLOYMENT_NAME\")\n",
    "api_version = os.getenv(\"AZURE_OPENAI_API_VERSION\")\n",
    "\n",
    "assert key, \"Please set the AZURE_OPENAI_API_KEY environment variable\"\n",
    "assert endpoint, \"Please set the AZURE_OPENAI_ENDPOINT environment variable\"\n",
    "assert deployment_name, \"Please set the DEPLOYMENT_NAME environment variable\"\n",
    "assert api_version, \"Please set the AZURE_OPENAI_API_VERSION environment variable\"\n",
    "\n",
    "SYS_MSG = \"You are a synonym and antonym bot. Given a word, you will provide synonyms and antonyms for it.\""
   ]
  },
  {
   "cell_type": "code",
   "execution_count": 2,
   "metadata": {},
   "outputs": [],
   "source": [
    "from langchain_community.document_loaders import PyPDFLoader\n",
    "from pathlib import Path\n",
    "\n",
    "loader = PyPDFLoader(str(Path(\"insurance.pdf\")))\n",
    "pages = loader.load_and_split()"
   ]
  },
  {
   "cell_type": "code",
   "execution_count": 9,
   "metadata": {},
   "outputs": [
    {
     "data": {
      "text/plain": [
       "Document(page_content='Comprehensive Insurance Policy Document\\nInsurance Policy Number: ABCDEFG123\\nPolicyholder: Jane Doe\\nThis comprehensive insurance policy document outlines the terms and coverage details for the\\npolicyholder. Please review each section to understand the coverage scope, limits, and exclusions\\napplicable.', metadata={'source': 'insurance.pdf', 'page': 0})"
      ]
     },
     "execution_count": 9,
     "metadata": {},
     "output_type": "execute_result"
    }
   ],
   "source": [
    "pages[0]"
   ]
  },
  {
   "cell_type": "code",
   "execution_count": 11,
   "metadata": {},
   "outputs": [
    {
     "name": "stdout",
     "output_type": "stream",
     "text": [
      "2: Vehicle Damage Coverage\n",
      "Coverage details for vehicle repair or replacement due to accidents or theft.\n",
      "1. Collision: Coverage of repair costs 100% up to the value of $40,000.\n",
      "2. Theft: Full replacement cost up to $50,000 if the vehicle is stolen and not recovered.\n",
      "3. Natural Disasters: 70% coverage f\n",
      "1: Medical Expenses Coverage\n",
      "Coverage for all medical expenses incurred due to accidents, illnesses, or injuries.\n",
      "1. Emergency Treatment: 100% coverage up to $20,000.\n",
      "2. Hospital Stay: 80% coverage up to $50,000.\n",
      "3. Outpatient Services: 70% coverage up to $10,000.\n",
      "4. Prescription Medication: 60% covera\n"
     ]
    }
   ],
   "source": [
    "from langchain_community.vectorstores import FAISS\n",
    "from langchain_openai import AzureOpenAIEmbeddings\n",
    "\n",
    "# deployment name for an embeddings model =\n",
    "embedding_deployment = \"ss_embed\"\n",
    "\n",
    "faiss_index = FAISS.from_documents(\n",
    "    pages,\n",
    "    AzureOpenAIEmbeddings(deployment=embedding_deployment),\n",
    ")\n",
    "docs = faiss_index.similarity_search(\"Car\", k=2)"
   ]
  },
  {
   "cell_type": "code",
   "execution_count": null,
   "metadata": {},
   "outputs": [],
   "source": [
    "for doc in docs:\n",
    "    print(str(doc.metadata[\"page\"]) + \":\", doc.page_content[:300])"
   ]
  },
  {
   "cell_type": "code",
   "execution_count": 14,
   "metadata": {},
   "outputs": [
    {
     "name": "stdout",
     "output_type": "stream",
     "text": [
      "found 4 documents\n",
      "top hit:\n",
      "Vehicle Damage Coverage\n",
      "Coverage details for vehicle repair or replacement due to accidents or theft.\n",
      "1. Collision: Coverage of repair costs 100% up to the value of $40,000.\n",
      "2. Theft: Full replacement cost up to $50,000 if the vehicle is stolen and not recovered.\n",
      "3. Natural Disasters: 70% coverage for damages caused by events such as earthquakes, floods,\n",
      "and hurricanes up to $30,000.\n",
      "4. Vandalism: Coverage up to $10,000.\n",
      "Exclusions:\n",
      "- Damages due to routine wear and tear.\n",
      "- Incidents occurring when the vehicle was being used for illegal activities.\n",
      "- Vehicles over 10 years old or those not maintaining regular servicing records.\n"
     ]
    }
   ],
   "source": [
    "query = \"flood\"\n",
    "docs = faiss_index.similarity_search(query)\n",
    "print(f\"found {len(docs)} documents\")\n",
    "print(\"top hit:\")\n",
    "print(docs[0].page_content)"
   ]
  },
  {
   "cell_type": "code",
   "execution_count": 16,
   "metadata": {},
   "outputs": [],
   "source": [
    "retriever = faiss_index.as_retriever()"
   ]
  },
  {
   "cell_type": "code",
   "execution_count": 17,
   "metadata": {},
   "outputs": [],
   "source": [
    "from langchain_core.runnables import RunnablePassthrough\n",
    "from langchain_openai import AzureChatOpenAI\n",
    "from langchain_core.output_parsers import StrOutputParser\n",
    "from langchain.prompts import ChatPromptTemplate\n",
    "\n",
    "prompt = \"\"\" You are a helpful insurance agent. Given the context from the insurance policy, shortly answer the user's question.\n",
    "Please provide extensive evidence from the document to support your answer.\n",
    "<policy>\n",
    "{context}\n",
    "</policy>\n",
    "question = {question}\n",
    "if the answer is not in the policy, answer \"i cannot find the answer in the policy.\"\n",
    "\"\"\"\n",
    "\n",
    "prompt = ChatPromptTemplate.from_template(prompt)\n",
    "\n",
    "\n",
    "llm = AzureChatOpenAI(\n",
    "    api_version=api_version,  # type: ignore\n",
    "    azure_deployment=deployment_name,\n",
    ")\n",
    "\n",
    "rag_chain = (\n",
    "    {\"context\": retriever, \"question\": RunnablePassthrough()}\n",
    "    | prompt\n",
    "    | llm\n",
    "    | StrOutputParser()\n",
    ")"
   ]
  },
  {
   "cell_type": "code",
   "execution_count": 25,
   "metadata": {},
   "outputs": [
    {
     "data": {
      "text/plain": [
       "[Document(page_content='Vehicle Damage Coverage\\nCoverage details for vehicle repair or replacement due to accidents or theft.\\n1. Collision: Coverage of repair costs 100% up to the value of $40,000.\\n2. Theft: Full replacement cost up to $50,000 if the vehicle is stolen and not recovered.\\n3. Natural Disasters: 70% coverage for damages caused by events such as earthquakes, floods,\\nand hurricanes up to $30,000.\\n4. Vandalism: Coverage up to $10,000.\\nExclusions:\\n- Damages due to routine wear and tear.\\n- Incidents occurring when the vehicle was being used for illegal activities.\\n- Vehicles over 10 years old or those not maintaining regular servicing records.', metadata={'source': 'insurance.pdf', 'page': 2}),\n",
       " Document(page_content='Comprehensive Insurance Policy Document\\nInsurance Policy Number: ABCDEFG123\\nPolicyholder: Jane Doe\\nThis comprehensive insurance policy document outlines the terms and coverage details for the\\npolicyholder. Please review each section to understand the coverage scope, limits, and exclusions\\napplicable.', metadata={'source': 'insurance.pdf', 'page': 0}),\n",
       " Document(page_content='Home and Property Coverage\\nDetailed coverage for damages or losses to home and property due to various risks.\\n1. Fire: 100% coverage up to $200,000 for damages or total loss due to fire.\\n2. Burglary: Up to $150,000 coverage for losses due to theft or burglary.\\n3. Structural Repairs: 85% coverage up to $100,000 for damages due to structural failures.\\n4. Personal Property: 70% coverage up to $50,000 for personal belongings inside the home.\\nExclusions:\\n- Damage due to negligence or failure to secure the property.\\n- Events related to war or nuclear hazards.\\n- Property left unoccupied for more than 60 consecutive days without prior notification.', metadata={'source': 'insurance.pdf', 'page': 3}),\n",
       " Document(page_content='Medical Expenses Coverage\\nCoverage for all medical expenses incurred due to accidents, illnesses, or injuries.\\n1. Emergency Treatment: 100% coverage up to $20,000.\\n2. Hospital Stay: 80% coverage up to $50,000.\\n3. Outpatient Services: 70% coverage up to $10,000.\\n4. Prescription Medication: 60% coverage up to $5,000.\\n5. Dental and Optical: 50% coverage up to $3,000, excluding cosmetic procedures.\\nExclusions:\\n- Pre-existing conditions not disclosed at the time of policy issuance.\\n- Elective and cosmetic surgeries.\\n- Treatments received outside the network of approved medical facilities without prior approval.', metadata={'source': 'insurance.pdf', 'page': 1})]"
      ]
     },
     "execution_count": 25,
     "metadata": {},
     "output_type": "execute_result"
    }
   ],
   "source": [
    "faiss_index.similarity_search(\"car water\")"
   ]
  },
  {
   "cell_type": "code",
   "execution_count": 28,
   "metadata": {},
   "outputs": [
    {
     "data": {
      "text/plain": [
       "'Your coverage in case of damage from a flood is 70% coverage for damages caused by events such as floods up to $30,000. This information can be found in the Vehicle Damage Coverage section on page 2 of the insurance policy document.'"
      ]
     },
     "execution_count": 28,
     "metadata": {},
     "output_type": "execute_result"
    }
   ],
   "source": [
    "user_prompt = \"what is my coverage in case of damange from a flood?\"\n",
    "\n",
    "rag_chain.invoke(user_prompt)"
   ]
  },
  {
   "cell_type": "code",
   "execution_count": null,
   "metadata": {},
   "outputs": [],
   "source": []
  }
 ],
 "metadata": {
  "kernelspec": {
   "display_name": "Python 3",
   "language": "python",
   "name": "python3"
  },
  "language_info": {
   "codemirror_mode": {
    "name": "ipython",
    "version": 3
   },
   "file_extension": ".py",
   "mimetype": "text/x-python",
   "name": "python",
   "nbconvert_exporter": "python",
   "pygments_lexer": "ipython3",
   "version": "3.12.3"
  }
 },
 "nbformat": 4,
 "nbformat_minor": 2
}
